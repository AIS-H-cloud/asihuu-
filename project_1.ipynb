{
  "cells": [
    {
      "cell_type": "markdown",
      "metadata": {
        "id": "view-in-github",
        "colab_type": "text"
      },
      "source": [
        "<a href=\"https://colab.research.google.com/github/AIS-H-cloud/asihuu-/blob/main/project_1.ipynb\" target=\"_parent\"><img src=\"https://colab.research.google.com/assets/colab-badge.svg\" alt=\"Open In Colab\"/></a>"
      ]
    },
    {
      "cell_type": "code",
      "execution_count": null,
      "metadata": {
        "id": "2Nozznu8Lks6"
      },
      "outputs": [],
      "source": [
        "import random\n",
        "\n",
        "def get_user_choice():\n",
        "    choice = input(\"Enter your choice (rock, paper, scissors): \").lower()\n",
        "    while choice not in ['rock', 'paper', 'scissors']:\n",
        "        print(\"Invalid input!\")\n",
        "        choice = input(\"Enter your choice (rock, paper, scissors): \").lower()\n",
        "    return choice"
      ]
    },
    {
      "cell_type": "code",
      "execution_count": null,
      "metadata": {
        "id": "Kz7O2CQHLzUH"
      },
      "outputs": [],
      "source": [
        "def get_computer_choice():\n",
        "    return random.choice(['rock', 'paper', 'scissors'])"
      ]
    },
    {
      "cell_type": "code",
      "execution_count": null,
      "metadata": {
        "id": "oT7BAyCMLzIP"
      },
      "outputs": [],
      "source": [
        "def determine_winner(user, computer):\n",
        "    if user == computer:\n",
        "        return \"It's a tie!\"\n",
        "    elif (user == 'rock' and computer == 'scissors') or \\\n",
        "         (user == 'scissors' and computer == 'paper') or \\\n",
        "         (user == 'paper' and computer == 'rock'):\n",
        "        return \"You win!\"\n",
        "    else:\n",
        "        return \"Computer wins!\""
      ]
    },
    {
      "cell_type": "code",
      "execution_count": null,
      "metadata": {
        "colab": {
          "background_save": true,
          "base_uri": "https://localhost:8080/"
        },
        "id": "Z8xIMw1pLy9k",
        "outputId": "48225a9e-33e1-4891-9b51-ac8c25da4aba"
      },
      "outputs": [
        {
          "name": "stdout",
          "output_type": "stream",
          "text": [
            "Welcome to Rock-Paper-Scissors Game!\n"
          ]
        }
      ],
      "source": [
        "def play():\n",
        "    print(\"Welcome to Rock-Paper-Scissors Game!\")\n",
        "    user_choice = get_user_choice()\n",
        "    computer_choice = get_computer_choice()\n",
        "    print(f\"\\nYou chose: {user_choice}\")\n",
        "    print(f\"Computer chose: {computer_choice}\")\n",
        "    result = determine_winner(user_choice, computer_choice)\n",
        "    print(f\"\\nResult: {result}\")\n",
        "\n",
        "play()"
      ]
    }
  ],
  "metadata": {
    "colab": {
      "provenance": [],
      "authorship_tag": "ABX9TyP/jSGtta1nN1WF5RUPlDtm",
      "include_colab_link": true
    },
    "kernelspec": {
      "display_name": "Python 3",
      "name": "python3"
    },
    "language_info": {
      "name": "python"
    }
  },
  "nbformat": 4,
  "nbformat_minor": 0
}